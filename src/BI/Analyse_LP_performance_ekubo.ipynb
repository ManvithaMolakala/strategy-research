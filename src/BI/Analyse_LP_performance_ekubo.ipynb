{
 "cells": [
  {
   "cell_type": "markdown",
   "id": "15744a7d",
   "metadata": {},
   "source": [
    "Analyse LP performance on Ekubo ETH/USDC pool by user address"
   ]
  },
  {
   "cell_type": "code",
   "execution_count": 2,
   "id": "aeb503b5",
   "metadata": {},
   "outputs": [
    {
     "ename": "ModuleNotFoundError",
     "evalue": "No module named 'src'",
     "output_type": "error",
     "traceback": [
      "\u001b[1;31m---------------------------------------------------------------------------\u001b[0m",
      "\u001b[1;31mModuleNotFoundError\u001b[0m                       Traceback (most recent call last)",
      "Cell \u001b[1;32mIn[2], line 10\u001b[0m\n\u001b[0;32m      7\u001b[0m \u001b[38;5;28;01mimport\u001b[39;00m \u001b[38;5;21;01mmatplotlib\u001b[39;00m\u001b[38;5;21;01m.\u001b[39;00m\u001b[38;5;21;01mpyplot\u001b[39;00m \u001b[38;5;28;01mas\u001b[39;00m \u001b[38;5;21;01mplt\u001b[39;00m\n\u001b[0;32m      9\u001b[0m \u001b[38;5;66;03m# Local Imports\u001b[39;00m\n\u001b[1;32m---> 10\u001b[0m \u001b[38;5;28;01mfrom\u001b[39;00m \u001b[38;5;21;01msrc\u001b[39;00m\u001b[38;5;21;01m.\u001b[39;00m\u001b[38;5;21;01mdata\u001b[39;00m\u001b[38;5;21;01m.\u001b[39;00m\u001b[38;5;21;01mekubo_data\u001b[39;00m \u001b[38;5;28;01mimport\u001b[39;00m EkuboData  \u001b[38;5;66;03m# Importing the EkuboData class\u001b[39;00m\n\u001b[0;32m     11\u001b[0m \u001b[38;5;28;01mfrom\u001b[39;00m \u001b[38;5;21;01msrc\u001b[39;00m\u001b[38;5;21;01m.\u001b[39;00m\u001b[38;5;21;01mstrategies\u001b[39;00m\u001b[38;5;21;01m.\u001b[39;00m\u001b[38;5;21;01mekubo_base\u001b[39;00m \u001b[38;5;28;01mimport\u001b[39;00m EkuboStrategyBase\n",
      "\u001b[1;31mModuleNotFoundError\u001b[0m: No module named 'src'"
     ]
    }
   ],
   "source": [
    "# Standard Library Imports\n",
    "import math\n",
    "\n",
    "# Third-Party Library Imports\n",
    "import pandas as pd\n",
    "import numpy as np\n",
    "import matplotlib.pyplot as plt\n",
    "\n",
    "# Local Imports\n",
    "from src.data.ekubo_data import EkuboData  # Importing the EkuboData class\n",
    "from src.strategies.ekubo_base import EkuboStrategyBase  # Importing the EkuboStrategyBase class"
   ]
  },
  {
   "cell_type": "code",
   "execution_count": null,
   "id": "02c0e696",
   "metadata": {},
   "outputs": [],
   "source": [
    "# existing values from the website \n",
    "pool_fee = 0.05  # in %\n",
    "tick_spacing = 0.1  # in %\n",
    "\n",
    "# Constants to use\n",
    "pool_fee_touse = 3402823669209384797702963685910118\n",
    "tick_spacing_touse = math.ceil(math.log(1 + tick_spacing / 100) / math.log(1.000001))"
   ]
  },
  {
   "cell_type": "code",
   "execution_count": null,
   "id": "ec868441",
   "metadata": {},
   "outputs": [],
   "source": [
    "# Initialize the data loader with the required parameters\n",
    "ekubo_data = EkuboData(\n",
    "    client_url=\"https://starknet-mainnet.public.blastapi.io\", \n",
    "    contract_address=\"0x00000005dd3d2f4429af886cd1a3b08289dbcea99a294197e9eb43b0e0325b4b\",\n",
    "    token0_address=\"0x42b8f0484674ca266ac5d08e4ac6a3fe65bd3129795def2dca5c34ecc5f96d2\",  # wstETH Address\n",
    "    token1_address=\"0x49d36570d4e46f48e99674bd3fcc84644ddd6b96f7c741b1562b82f9e004dc7\",  # ETH Address\n",
    "    pool_fee=pool_fee_touse,\n",
    "    tick_spacing=tick_spacing_touse\n",
    ")"
   ]
  },
  {
   "cell_type": "code",
   "execution_count": null,
   "id": "d293401b",
   "metadata": {},
   "outputs": [],
   "source": [
    "# Load events from files\n",
    "events_response_positions_updated = ekubo_data.load_events_from_file('src/data/events_response_positions_updated.pkl')\n",
    "combined_events_response_swap = ekubo_data.load_events_from_file('src/data/combined_events_response_swap.pkl')\n",
    "# events_response_positions_updated = events_response_positions_updated.events\n",
    "print(events_response_positions_updated.events[0])\n",
    "print(combined_events_response_swap[0])"
   ]
  }
 ],
 "metadata": {
  "kernelspec": {
   "display_name": "Python 3 (ipykernel)",
   "language": "python",
   "name": "python3"
  },
  "language_info": {
   "codemirror_mode": {
    "name": "ipython",
    "version": 3
   },
   "file_extension": ".py",
   "mimetype": "text/x-python",
   "name": "python",
   "nbconvert_exporter": "python",
   "pygments_lexer": "ipython3",
   "version": "3.11.7"
  }
 },
 "nbformat": 4,
 "nbformat_minor": 5
}
