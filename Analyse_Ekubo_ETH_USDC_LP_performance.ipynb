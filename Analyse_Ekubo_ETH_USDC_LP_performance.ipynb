{
 "cells": [
  {
   "cell_type": "markdown",
   "id": "52f23cd5",
   "metadata": {},
   "source": [
    "Analyse LP performance on Ekubo ETH/USDC pool by user address"
   ]
  },
  {
   "cell_type": "code",
   "execution_count": 1,
   "id": "7eecef02",
   "metadata": {},
   "outputs": [],
   "source": [
    "# Standard Library Imports\n",
    "import math\n",
    "\n",
    "# Third-Party Library Imports\n",
    "import pandas as pd\n",
    "import numpy as np\n",
    "import matplotlib.pyplot as plt\n",
    "\n",
    "# Local Imports\n",
    "from src.data.ekubo_data import EkuboData  # Importing the EkuboData class\n",
    "from src.utils.ekubo_math import get_token_order, get_pool_fee_touse, get_tick_spacing_touse"
   ]
  },
  {
   "cell_type": "code",
   "execution_count": 5,
   "id": "e0c17b44",
   "metadata": {},
   "outputs": [
    {
     "name": "stdout",
     "output_type": "stream",
     "text": [
      "Token0 Address: 0x049d36570d4e46f48e99674bd3fcc84644ddd6b96f7c741b1562b82f9e004dc7, Token1 Address: 0x053c91253bc9682c04929ca02ed00b3e423f6710d2ee7e0d5ebb06f3ecf368a8\n",
      "Pool Fee to use: 170141183460469235273462165868118016\n",
      "Tick Spacing to use: 1000\n"
     ]
    }
   ],
   "source": [
    "# Tokens in the LP\n",
    "address1 = '0x053c91253bc9682c04929ca02ed00b3e423f6710d2ee7e0d5ebb06f3ecf368a8'  # USDC\n",
    "address2 = '0x049d36570d4e46f48e99674bd3fcc84644ddd6b96f7c741b1562b82f9e004dc7'  # ETH\n",
    "\n",
    "token0_address, token1_address = get_token_order(address1, address2)\n",
    "print(f\"Token0 Address: {token0_address}, Token1 Address: {token1_address}\")\n",
    "\n",
    "# existing values from the website \n",
    "pool_fee = 0.05  # in %\n",
    "tick_spacing = 0.1  # in %\n",
    "\n",
    "# fee and tick to use\n",
    "pool_fee_touse = get_pool_fee_touse(pool_fee)\n",
    "tick_spacing_touse = get_tick_spacing_touse(tick_spacing)\n",
    "\n",
    "print(f\"Pool Fee to use: {pool_fee_touse}\")\n",
    "print(f\"Tick Spacing to use: {tick_spacing_touse}\")"
   ]
  },
  {
   "cell_type": "code",
   "execution_count": 6,
   "id": "b902f1f3",
   "metadata": {},
   "outputs": [],
   "source": [
    "# Initialize the data loader with the required parameters\n",
    "ekubo_data = EkuboData(\n",
    "    client_url=\"https://starknet-mainnet.public.blastapi.io\", \n",
    "    contract_address=\"0x00000005dd3d2f4429af886cd1a3b08289dbcea99a294197e9eb43b0e0325b4b\", # Ekubo\n",
    "    token0_address=\"0x49d36570d4e46f48e99674bd3fcc84644ddd6b96f7c741b1562b82f9e004dc7\",  # ETH Address\n",
    "    token1_address=\"0x53c91253bc9682c04929ca02ed00b3e423f6710d2ee7e0d5ebb06f3ecf368a8\",  # USDC Address\n",
    "    pool_fee=pool_fee_touse,\n",
    "    tick_spacing=tick_spacing_touse\n",
    ")"
   ]
  },
  {
   "cell_type": "code",
   "execution_count": 4,
   "id": "49cdf649",
   "metadata": {},
   "outputs": [
    {
     "name": "stdout",
     "output_type": "stream",
     "text": [
      "EmittedEvent(from_address=158098919692956613592021320609952044916245725306097615271255138786123, keys=[1653201459205670538619725765890364513302126541856407219635220342091629827182], data=[1301608360075471435988652873011016112527098238822505666695223302941012672615, 2087021424722619777119509474943472645767659996348769578120564519014510906823, 2368576823837625528275935341135881659748932889268308403712618244410713532584, 0, 1001, 0, 634487, 19631612, 1, 19630611, 1, 4025579270426132218, 1, 0, 0, 109999999866, 1], transaction_hash=3380792800644086123602274049313571131378918353183444763251013603515006644394, block_hash=1007256769720868385100059786946035728971940593564070340067263501679755643489, block_number=655177)\n",
      "EmittedEvent(from_address=158098919692956613592021320609952044916245725306097615271255138786123, keys=[606811659813332433876493709172014493172264375712319669538606486437773289584], data=[1878172929613570324457239593384623395652998589633516919063222269774660188943, 2087021424722619777119509474943472645767659996348769578120564519014510906823, 2368576823837625528275935341135881659748932889268308403712618244410713532584, 170141183460469235273462165868118016, 1000, 0, 737888330085366722, 0, 0, 18861799275082938053483842254571224, 0, 100, 737888330085366722, 0, 2267658441, 1, 18865301695958862243241493346127037, 0, 19600424, 1, 114379534964441556], transaction_hash=53799518631215386830990021744300115985023650398886896722555799715271204729, block_hash=1007256769720868385100059786946035728971940593564070340067263501679755643489, block_number=655177)\n"
     ]
    }
   ],
   "source": [
    "# Load events from files\n",
    "events_response_positions_updated = ekubo_data.load_events_from_file('data_downloaded/events_response_positions_updated.pkl')\n",
    "combined_events_response_swap = ekubo_data.load_events_from_file('data_downloaded/combined_events_response_swap.pkl')\n",
    "# events_response_positions_updated = events_response_positions_updated.events\n",
    "print(events_response_positions_updated.events[0])\n",
    "print(combined_events_response_swap[0])"
   ]
  },
  {
   "cell_type": "code",
   "execution_count": 12,
   "id": "9ebc9153",
   "metadata": {},
   "outputs": [
    {
     "name": "stdout",
     "output_type": "stream",
     "text": [
      "Liquidity DataFrame:\n"
     ]
    },
    {
     "data": {
      "text/html": [
       "<div>\n",
       "<style scoped>\n",
       "    .dataframe tbody tr th:only-of-type {\n",
       "        vertical-align: middle;\n",
       "    }\n",
       "\n",
       "    .dataframe tbody tr th {\n",
       "        vertical-align: top;\n",
       "    }\n",
       "\n",
       "    .dataframe thead th {\n",
       "        text-align: right;\n",
       "    }\n",
       "</style>\n",
       "<table border=\"1\" class=\"dataframe\">\n",
       "  <thead>\n",
       "    <tr style=\"text-align: right;\">\n",
       "      <th></th>\n",
       "      <th>block_number</th>\n",
       "      <th>transaction_hash</th>\n",
       "      <th>delta_liquidity</th>\n",
       "      <th>tick_lower</th>\n",
       "      <th>tick_upper</th>\n",
       "    </tr>\n",
       "  </thead>\n",
       "  <tbody>\n",
       "    <tr>\n",
       "      <th>0</th>\n",
       "      <td>655189</td>\n",
       "      <td>1870003463488324013557109485794406691956424922...</td>\n",
       "      <td>-4098442033727333</td>\n",
       "      <td>-19560000</td>\n",
       "      <td>-19485000</td>\n",
       "    </tr>\n",
       "    <tr>\n",
       "      <th>1</th>\n",
       "      <td>655191</td>\n",
       "      <td>7496014676659025143298985231117091524661156471...</td>\n",
       "      <td>217283698718749</td>\n",
       "      <td>-19659000</td>\n",
       "      <td>-19529000</td>\n",
       "    </tr>\n",
       "    <tr>\n",
       "      <th>2</th>\n",
       "      <td>655254</td>\n",
       "      <td>2531281685448483276887619456573047919358036353...</td>\n",
       "      <td>-1930452388810913</td>\n",
       "      <td>-19595000</td>\n",
       "      <td>-19563000</td>\n",
       "    </tr>\n",
       "    <tr>\n",
       "      <th>3</th>\n",
       "      <td>655257</td>\n",
       "      <td>2796112001729733432731889769034526094494676095...</td>\n",
       "      <td>-425398360136812</td>\n",
       "      <td>-19649000</td>\n",
       "      <td>-19521000</td>\n",
       "    </tr>\n",
       "    <tr>\n",
       "      <th>4</th>\n",
       "      <td>655266</td>\n",
       "      <td>2524055520502035698904493616099606583342588548...</td>\n",
       "      <td>-302553323753</td>\n",
       "      <td>-88722000</td>\n",
       "      <td>88722000</td>\n",
       "    </tr>\n",
       "  </tbody>\n",
       "</table>\n",
       "</div>"
      ],
      "text/plain": [
       "   block_number                                   transaction_hash  \\\n",
       "0        655189  1870003463488324013557109485794406691956424922...   \n",
       "1        655191  7496014676659025143298985231117091524661156471...   \n",
       "2        655254  2531281685448483276887619456573047919358036353...   \n",
       "3        655257  2796112001729733432731889769034526094494676095...   \n",
       "4        655266  2524055520502035698904493616099606583342588548...   \n",
       "\n",
       "     delta_liquidity  tick_lower  tick_upper  \n",
       "0  -4098442033727333   -19560000   -19485000  \n",
       "1    217283698718749   -19659000   -19529000  \n",
       "2  -1930452388810913   -19595000   -19563000  \n",
       "3   -425398360136812   -19649000   -19521000  \n",
       "4      -302553323753   -88722000    88722000  "
      ]
     },
     "metadata": {},
     "output_type": "display_data"
    },
    {
     "name": "stdout",
     "output_type": "stream",
     "text": [
      "531\n",
      "Swap DataFrame:\n"
     ]
    },
    {
     "data": {
      "text/html": [
       "<div>\n",
       "<style scoped>\n",
       "    .dataframe tbody tr th:only-of-type {\n",
       "        vertical-align: middle;\n",
       "    }\n",
       "\n",
       "    .dataframe tbody tr th {\n",
       "        vertical-align: top;\n",
       "    }\n",
       "\n",
       "    .dataframe thead th {\n",
       "        text-align: right;\n",
       "    }\n",
       "</style>\n",
       "<table border=\"1\" class=\"dataframe\">\n",
       "  <thead>\n",
       "    <tr style=\"text-align: right;\">\n",
       "      <th></th>\n",
       "      <th>block_number</th>\n",
       "      <th>transaction_hash</th>\n",
       "      <th>price</th>\n",
       "      <th>tick_id</th>\n",
       "      <th>liquidity_after</th>\n",
       "      <th>amount0</th>\n",
       "      <th>amount1</th>\n",
       "    </tr>\n",
       "  </thead>\n",
       "  <tbody>\n",
       "    <tr>\n",
       "      <th>0</th>\n",
       "      <td>655177</td>\n",
       "      <td>5379951863121538683099002174430011598502365039...</td>\n",
       "      <td>3.073607e-09</td>\n",
       "      <td>-19600424</td>\n",
       "      <td>114379534964441556</td>\n",
       "      <td>737888330085366722</td>\n",
       "      <td>-2267658441</td>\n",
       "    </tr>\n",
       "    <tr>\n",
       "      <th>1</th>\n",
       "      <td>655177</td>\n",
       "      <td>5379951863121538683099002174430011598502365039...</td>\n",
       "      <td>3.073373e-09</td>\n",
       "      <td>-19600500</td>\n",
       "      <td>114379534964441556</td>\n",
       "      <td>78955167492407893</td>\n",
       "      <td>-242546697</td>\n",
       "    </tr>\n",
       "    <tr>\n",
       "      <th>2</th>\n",
       "      <td>655177</td>\n",
       "      <td>5379951863121538683099002174430011598502365039...</td>\n",
       "      <td>3.073318e-09</td>\n",
       "      <td>-19600518</td>\n",
       "      <td>114379534964441556</td>\n",
       "      <td>18531231477828963</td>\n",
       "      <td>-56924415</td>\n",
       "    </tr>\n",
       "    <tr>\n",
       "      <th>3</th>\n",
       "      <td>655177</td>\n",
       "      <td>4855896733655157058425204165595320457715756741...</td>\n",
       "      <td>3.076636e-09</td>\n",
       "      <td>-19599439</td>\n",
       "      <td>113058259809150450</td>\n",
       "      <td>-1105851471796272212</td>\n",
       "      <td>3402163387</td>\n",
       "    </tr>\n",
       "    <tr>\n",
       "      <th>4</th>\n",
       "      <td>655177</td>\n",
       "      <td>4106524299860971263060468316553724510380052057...</td>\n",
       "      <td>3.076666e-09</td>\n",
       "      <td>-19599429</td>\n",
       "      <td>113058259809150450</td>\n",
       "      <td>-10362418888953184</td>\n",
       "      <td>31897500</td>\n",
       "    </tr>\n",
       "  </tbody>\n",
       "</table>\n",
       "</div>"
      ],
      "text/plain": [
       "   block_number                                   transaction_hash  \\\n",
       "0        655177  5379951863121538683099002174430011598502365039...   \n",
       "1        655177  5379951863121538683099002174430011598502365039...   \n",
       "2        655177  5379951863121538683099002174430011598502365039...   \n",
       "3        655177  4855896733655157058425204165595320457715756741...   \n",
       "4        655177  4106524299860971263060468316553724510380052057...   \n",
       "\n",
       "          price   tick_id     liquidity_after               amount0  \\\n",
       "0  3.073607e-09 -19600424  114379534964441556    737888330085366722   \n",
       "1  3.073373e-09 -19600500  114379534964441556     78955167492407893   \n",
       "2  3.073318e-09 -19600518  114379534964441556     18531231477828963   \n",
       "3  3.076636e-09 -19599439  113058259809150450  -1105851471796272212   \n",
       "4  3.076666e-09 -19599429  113058259809150450    -10362418888953184   \n",
       "\n",
       "      amount1  \n",
       "0 -2267658441  \n",
       "1  -242546697  \n",
       "2   -56924415  \n",
       "3  3402163387  \n",
       "4    31897500  "
      ]
     },
     "metadata": {},
     "output_type": "display_data"
    },
    {
     "name": "stdout",
     "output_type": "stream",
     "text": [
      "277095\n"
     ]
    }
   ],
   "source": [
    "# Process the events to filter relevant data and create DataFrames\n",
    "df_liquidity, df_swap = ekubo_data.process_events(events_response_positions_updated.events, combined_events_response_swap)\n",
    "\n",
    "# Display the first few rows of the liquidity and swap DataFrames\n",
    "print(\"Liquidity DataFrame:\")\n",
    "display(df_liquidity.head())\n",
    "print(len(df_liquidity))\n",
    "print(\"Swap DataFrame:\")\n",
    "display(df_swap.head())\n",
    "print(len(df_swap))\n"
   ]
  },
  {
   "cell_type": "code",
   "execution_count": null,
   "id": "940e4655",
   "metadata": {},
   "outputs": [],
   "source": []
  }
 ],
 "metadata": {
  "kernelspec": {
   "display_name": "Python 3 (ipykernel)",
   "language": "python",
   "name": "python3"
  },
  "language_info": {
   "codemirror_mode": {
    "name": "ipython",
    "version": 3
   },
   "file_extension": ".py",
   "mimetype": "text/x-python",
   "name": "python",
   "nbconvert_exporter": "python",
   "pygments_lexer": "ipython3",
   "version": "3.11.7"
  }
 },
 "nbformat": 4,
 "nbformat_minor": 5
}
